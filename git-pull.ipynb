{
 "cells": [
  {
   "cell_type": "code",
   "execution_count": null,
   "id": "e692de1d",
   "metadata": {},
   "outputs": [],
   "source": [
    "import os\n",
    "import smtplib\n",
    "from nbhelper import getArgument,pushVariable\n",
    "from email.mime.multipart import MIMEMultipart\n",
    "from email.mime.text import MIMEText\n",
    "from email.mime.base import MIMEBase\n",
    "from email import encoders\n",
    "from subprocess import run as run\n",
    "from subprocess import PIPE as PIPE\n",
    "\n",
    "default_file = getArgument(\"tracked_file\", \"PARAMS\")\n",
    "\n",
    "if default_file == None:\n",
    "    default_file = 'git-README.md'\n",
    "\n",
    "run([f'chmod 600 /home/jupyter/.ssh/id_rsa ; cd /home/jupyter ; git restore /home/jupyter/git-pull.ipynb; /home/jupyter/git-add.sh {default_file} '], shell=True, encoding='utf-8')\n",
    "run([f'/usr/bin/git log -n 2 |tee /home/jupyter/pull-log'], stdout=PIPE, stderr=PIPE, shell=True)\n",
    "run([f'chmod 600 /home/jupyter/.ssh/id_rsa; ssh -i /home/jupyter/.ssh/id_rsa UUUUUUU@inkiru-ds-prod1.us-central1.us.walmart.net \"cd RRRRR/; git show\">> /home/jupyter/pull-log'], stdout=PIPE, stderr=PIPE, shell=True)\n",
    "\n",
    "with open('/home/jupyter/pull-log', 'a') as pulled:\n",
    "    pulled.writelines('\\n\\nUUUUUUU\\n')\n",
    "    pulled.writelines('\\n\\n')\n",
    "    pulled.writelines('NNNNNNN\\n')\n",
    "    pulled.writelines('FFF.LLL@walmart.com\\n\\n')\n",
    "\n",
    "with open('/home/jupyter/pull-log', 'r') as pullog:\n",
    "    pull = pullog.read()\n",
    "\n",
    "msg_s=(pull)\n",
    "\n",
    "\n",
    "\n",
    "msg = MIMEMultipart()       \n",
    "msg['From']='GEC ADMIN <svcgecadmin@walmart.com>'\n",
    "msg['To']='FFF.LLL@walmart.com'\n",
    "msg['Subject']=\"GIT pull for PPPP Element Notebook\"\n",
    "msg.attach(MIMEText (str(msg_s)))\n",
    "s = smtplib.SMTP(host='phont300cdcus1.homeoffice.Wal-Mart.com', port=25)\n",
    "s.send_message(msg)\n",
    "del msg",
    "\n"
   ]
  }
 ],
 "metadata": {
  "kernelspec": {
   "display_name": "Default_env_64896",
   "language": "python",
   "name": "60888"
  },
  "language_info": {
   "codemirror_mode": {
    "name": "ipython",
    "version": 3
   },
   "file_extension": ".py",
   "mimetype": "text/x-python",
   "name": "python",
   "nbconvert_exporter": "python",
   "pygments_lexer": "ipython3",
   "version": "3.7.7"
  }
 },
 "nbformat": 4,
 "nbformat_minor": 5
}
